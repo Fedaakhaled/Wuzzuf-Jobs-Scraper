{
  "nbformat": 4,
  "nbformat_minor": 0,
  "metadata": {
    "colab": {
      "provenance": []
    },
    "kernelspec": {
      "name": "python3",
      "display_name": "Python 3"
    },
    "language_info": {
      "name": "python"
    }
  },
  "cells": [
    {
      "cell_type": "code",
      "execution_count": null,
      "metadata": {
        "id": "xbXS-dRmKNYk"
      },
      "outputs": [],
      "source": [
        "import requests\n",
        "from bs4 import BeautifulSoup as bs\n",
        "\n",
        "url = 'https://wuzzuf.net/search/jobs/?a=hpb%7Cspbg&q=data%20analyst'\n",
        "response = requests.get(url)"
      ]
    },
    {
      "cell_type": "code",
      "source": [
        "soup = bs(response.content, \"html.parser\")"
      ],
      "metadata": {
        "id": "jovOC_nGKf4q"
      },
      "execution_count": null,
      "outputs": []
    },
    {
      "cell_type": "code",
      "source": [
        "containers = soup.find_all(\"div\",{\"class\":\"css-pkv5jc\"})"
      ],
      "metadata": {
        "id": "JWZ31GUHLBf1"
      },
      "execution_count": null,
      "outputs": []
    },
    {
      "cell_type": "code",
      "source": [
        "len(containers)"
      ],
      "metadata": {
        "colab": {
          "base_uri": "https://localhost:8080/"
        },
        "id": "Xy6Cw7hBMhQh",
        "outputId": "8c715522-70c5-4398-8442-110307773169"
      },
      "execution_count": null,
      "outputs": [
        {
          "output_type": "execute_result",
          "data": {
            "text/plain": [
              "15"
            ]
          },
          "metadata": {},
          "execution_count": 53
        }
      ]
    },
    {
      "cell_type": "code",
      "source": [
        "bs.prettify(containers[0])"
      ],
      "metadata": {
        "colab": {
          "base_uri": "https://localhost:8080/",
          "height": 174
        },
        "id": "uqTZ7n4CMslx",
        "outputId": "89f36886-ee21-450e-d2bb-f042788b1bf2"
      },
      "execution_count": null,
      "outputs": [
        {
          "output_type": "execute_result",
          "data": {
            "text/plain": [
              "'<div class=\"css-pkv5jc\">\\n <a href=\"https://wuzzuf.net/jobs/careers/Intelligent-for-field-Marketing-Egypt-2774\" rel=\"noreferrer\" target=\"_blank\">\\n  <style data-emotion=\"css 17095x3\">\\n   .css-17095x3{position:absolute;right:0;top:0;width:60px;height:60px;object-fit:contain;object-position:center center;}\\n  </style>\\n </a>\\n <style data-emotion=\"css laomuu\">\\n  .css-laomuu{padding-right:60px;}\\n </style>\\n <div class=\"css-laomuu\">\\n  <style data-emotion=\"css m604qf\">\\n   .css-m604qf{font-size:16px;font-weight:600;font-style:normal;letter-spacing:-0.4px;line-height:24px;color:#0055D9;margin:0;}\\n  </style>\\n  <h2 class=\"css-m604qf\">\\n   <style data-emotion=\"css o171kl\">\\n    .css-o171kl{-webkit-text-decoration:none;text-decoration:none;color:inherit;}\\n   </style>\\n   <a class=\"css-o171kl\" href=\"https://wuzzuf.net/jobs/p/3ra0odsjjBj7-Data-Analyst-Intelligent-for-field-Marketing-Cairo-Egypt\" rel=\"noreferrer\" target=\"_blank\">\\n    Data Analyst\\n   </a>\\n  </h2>\\n  <style data-emotion=\"css d7j1kk\">\\n   .css-d7j1kk{margin-bottom:8px;overflow:hidden;text-overflow:ellipsis;}\\n  </style>\\n  <div class=\"css-d7j1kk\">\\n   <style data-emotion=\"css 17s97q8\">\\n    .css-17s97q8{font-size:12px;font-weight:600;font-style:normal;letter-spacing:-0.27px;line-height:19px;color:#001433;-webkit-text-decoration:none;text-decoration:none;}\\n   </style>\\n   <a class=\"css-17s97q8\" href=\"https://wuzzuf.net/jobs/careers/Intelligent-for-field-Marketing-Egypt-2774\" rel=\"noreferrer\" target=\"_blank\">\\n    Intelligent for field Marketing -\\n   </a>\\n   <style data-emotion=\"css 5wys0k\">\\n    .css-5wys0k{font-size:12px;font-weight:600;font-style:normal;letter-spacing:-0.27px;line-height:19px;color:#4D6182;}\\n   </style>\\n   <span class=\"css-5wys0k\">\\n    Nasr City,\\n    <!-- -->\\n    Cairo,\\n    <!-- -->\\n    Egypt\\n   </span>\\n   <style data-emotion=\"css 4c4ojb\">\\n    .css-4c4ojb{font-size:12px;font-weight:400;font-style:normal;letter-spacing:-0.27px;line-height:19px;color:#2C9266;}\\n   </style>\\n   <div class=\"css-4c4ojb\">\\n    3 days\\n    <!-- -->\\n    ago\\n   </div>\\n  </div>\\n </div>\\n <style data-emotion=\"css y4udm8\">\\n  .css-y4udm8{font-size:13px;font-weight:600;font-style:normal;letter-spacing:-0.3px;line-height:20px;color:#4D6182;}\\n </style>\\n <div class=\"css-y4udm8\">\\n  <style data-emotion=\"css 1lh32fc\">\\n   .css-1lh32fc{display:-webkit-box;display:-webkit-flex;display:-ms-flexbox;display:flex;margin-bottom:8px;-webkit-align-items:center;-webkit-box-align:center;-ms-flex-align:center;align-items:center;-webkit-box-flex-wrap:wrap;-webkit-flex-wrap:wrap;-ms-flex-wrap:wrap;flex-wrap:wrap;}\\n  </style>\\n  <div class=\"css-1lh32fc\">\\n   <style data-emotion=\"css n2jc4m\">\\n    .css-n2jc4m{display:-webkit-inline-box;display:-webkit-inline-flex;display:-ms-inline-flexbox;display:inline-flex;-webkit-align-items:center;-webkit-box-align:center;-ms-flex-align:center;align-items:center;-webkit-text-decoration:none;text-decoration:none;color:inherit;margin-bottom:4px;}\\n   </style>\\n   <a class=\"css-n2jc4m\" href=\"/a/Full-Time-Jobs-in-Egypt\">\\n    <style data-emotion=\"css adtuo7\">\\n     .css-adtuo7{cursor:pointer;padding:0 4px;border-radius:4px;}\\n    </style>\\n    <style data-emotion=\"css 1ve4b75\">\\n     .css-1ve4b75{font-size:12px;font-weight:600;display:-webkit-inline-box;display:-webkit-inline-flex;display:-ms-inline-flexbox;display:inline-flex;-webkit-align-items:center;-webkit-box-align:center;-ms-flex-align:center;align-items:center;min-height:20px;margin-right:4px;border-radius:2px;max-width:196px;white-space:nowrap;overflow:hidden;cursor:default;text-overflow:ellipsis;padding:2px 4px;background-color:#EBEDF0;color:#001433;cursor:pointer;padding:0 4px;border-radius:4px;}\\n    </style>\\n    <span class=\"css-1ve4b75 eoyjyou0\">\\n     Full Time\\n    </span>\\n   </a>\\n   <a href=\"/a/On-Site-Jobs-in-Egypt\">\\n    <style data-emotion=\"css 1i1n6hw\">\\n     .css-1i1n6hw{cursor:pointer;padding:0 4px;border-radius:4px;margin-bottom:4px;}\\n    </style>\\n    <style data-emotion=\"css o1vzmt\">\\n     .css-o1vzmt{font-size:12px;font-weight:600;display:-webkit-inline-box;display:-webkit-inline-flex;display:-ms-inline-flexbox;display:inline-flex;-webkit-align-items:center;-webkit-box-align:center;-ms-flex-align:center;align-items:center;min-height:20px;margin-right:4px;border-radius:2px;max-width:196px;white-space:nowrap;overflow:hidden;cursor:default;text-overflow:ellipsis;padding:2px 4px;background-color:#EBEDF0;color:#001433;cursor:pointer;padding:0 4px;border-radius:4px;margin-bottom:4px;}\\n    </style>\\n    <span class=\"css-o1vzmt eoyjyou0\">\\n     On-site\\n    </span>\\n   </a>\\n  </div>\\n  <div>\\n   <a class=\"css-o171kl\" href=\"/a/Experienced-Jobs-in-Egypt\">\\n    Experienced\\n   </a>\\n   <span>\\n    ·\\n    <!-- -->\\n    0 - 3 Yrs of Exp\\n   </span>\\n   <a class=\"css-o171kl\" href=\"/a/Customer-Service-Jobs-in-Egypt\">\\n    <!-- -->\\n    ·\\n    <!-- -->\\n    Customer Service/Support\\n   </a>\\n   <a class=\"css-o171kl\" href=\"/a/Marketing-PR-Advertising-Jobs-in-Egypt\">\\n    <!-- -->\\n    ·\\n    <!-- -->\\n    Marketing/PR/Advertising\\n   </a>\\n   <a class=\"css-o171kl\" href=\"/a/Analyst-Research-Jobs-in-Egypt\">\\n    <!-- -->\\n    ·\\n    <!-- -->\\n    Analyst/Research\\n   </a>\\n   <style data-emotion=\"css 5x9pm1\">\\n    .css-5x9pm1{-webkit-text-decoration:none;text-decoration:none;color:inherit;max-width:calc(100vw / 2 - 32px);white-space:nowrap;overflow:hidden;text-overflow:ellipsis;display:-webkit-inline-box;display:-webkit-inline-flex;display:-ms-inline-flexbox;display:inline-flex;}\\n   </style>\\n   <a class=\"css-5x9pm1\" href=\"/a/Analysis-Jobs-in-Egypt\">\\n    <!-- -->\\n    ·\\n    <!-- -->\\n    Analysis\\n   </a>\\n   <a class=\"css-5x9pm1\" href=\"/a/Business-Jobs-in-Egypt\">\\n    <!-- -->\\n    ·\\n    <!-- -->\\n    business\\n   </a>\\n   <!-- -->\\n   ·\\n   <!-- -->\\n   <a class=\"css-5x9pm1\" href=\"/a/Analyst-Jobs-in-Egypt\">\\n    <span>\\n     <strong class=\"highlight\">\\n      Analyst\\n     </strong>\\n    </span>\\n   </a>\\n   <!-- -->\\n   ·\\n   <!-- -->\\n   <a class=\"css-5x9pm1\" href=\"/a/Data-Analyst-Jobs-in-Egypt\">\\n    <span>\\n     <strong class=\"highlight\">\\n      Data\\n     </strong>\\n     <span>\\n     </span>\\n     <strong class=\"highlight\">\\n      Analyst\\n     </strong>\\n    </span>\\n   </a>\\n   <a class=\"css-5x9pm1\" href=\"/a/Communication-Skills-Jobs-in-Egypt\">\\n    <!-- -->\\n    ·\\n    <!-- -->\\n    Communication skills\\n   </a>\\n   <!-- -->\\n   ·\\n   <!-- -->\\n   <a class=\"css-5x9pm1\" href=\"/a/Data-Jobs-in-Egypt\">\\n    <span>\\n     <strong class=\"highlight\">\\n      Data\\n     </strong>\\n    </span>\\n   </a>\\n   <!-- -->\\n   ·\\n   <!-- -->\\n   <a class=\"css-5x9pm1\" href=\"/a/Data-Analysis-Jobs-in-Egypt\">\\n    <span>\\n     <strong class=\"highlight\">\\n      Data\\n     </strong>\\n     <span>\\n      Analysis\\n     </span>\\n    </span>\\n   </a>\\n  </div>\\n </div>\\n</div>\\n'"
            ],
            "application/vnd.google.colaboratory.intrinsic+json": {
              "type": "string"
            }
          },
          "metadata": {},
          "execution_count": 54
        }
      ]
    },
    {
      "cell_type": "code",
      "source": [
        "jtitle = containers[0].find_all('h2',{'class':'css-m604qf'})\n",
        "jtitle[0].text"
      ],
      "metadata": {
        "colab": {
          "base_uri": "https://localhost:8080/",
          "height": 35
        },
        "id": "nTRAOZ6eM-vv",
        "outputId": "69d765b0-a424-47c8-baaf-622e40d6520b"
      },
      "execution_count": null,
      "outputs": [
        {
          "output_type": "execute_result",
          "data": {
            "text/plain": [
              "'Data Analyst'"
            ],
            "application/vnd.google.colaboratory.intrinsic+json": {
              "type": "string"
            }
          },
          "metadata": {},
          "execution_count": 56
        }
      ]
    },
    {
      "cell_type": "code",
      "source": [
        "cname = containers[0].find_all('a',{'class':'css-17s97q8'})\n",
        "cname[0].text"
      ],
      "metadata": {
        "colab": {
          "base_uri": "https://localhost:8080/",
          "height": 35
        },
        "id": "u9Cw-JR1Pfkz",
        "outputId": "81c8c94a-3ee9-4830-c9a3-756270e9fee8"
      },
      "execution_count": null,
      "outputs": [
        {
          "output_type": "execute_result",
          "data": {
            "text/plain": [
              "'Intelligent for field Marketing -'"
            ],
            "application/vnd.google.colaboratory.intrinsic+json": {
              "type": "string"
            }
          },
          "metadata": {},
          "execution_count": 57
        }
      ]
    },
    {
      "cell_type": "code",
      "source": [
        "jtype = containers[0].find_all('span',{'class':'css-1ve4b75 eoyjyou0'})\n",
        "jtype[0].text"
      ],
      "metadata": {
        "colab": {
          "base_uri": "https://localhost:8080/",
          "height": 35
        },
        "id": "c_ywjJJ-Py4G",
        "outputId": "34a9fdbf-6837-4df3-b176-aebaff5d0ee0"
      },
      "execution_count": null,
      "outputs": [
        {
          "output_type": "execute_result",
          "data": {
            "text/plain": [
              "'Full Time'"
            ],
            "application/vnd.google.colaboratory.intrinsic+json": {
              "type": "string"
            }
          },
          "metadata": {},
          "execution_count": 58
        }
      ]
    },
    {
      "cell_type": "code",
      "source": [
        "tools_containers = soup.find_all(\"section\",{\"class\":\"css-3kx5e2\"})"
      ],
      "metadata": {
        "id": "3b28NU4zbkzA"
      },
      "execution_count": null,
      "outputs": []
    },
    {
      "cell_type": "code",
      "source": [
        "#data_tools = tools_containers[0].find_all('span',{'class':'css-6to1q'})\n",
        "#data_tools[0].text"
      ],
      "metadata": {
        "id": "-pjbfzq4dmT8"
      },
      "execution_count": null,
      "outputs": []
    },
    {
      "cell_type": "code",
      "source": [
        "f = open(\"Wuzzuf_jobs.csv\",\"w\")\n",
        "header = \"Job_Title,Company_Name,Job_Type\\n\"\n",
        "f.write(header)"
      ],
      "metadata": {
        "colab": {
          "base_uri": "https://localhost:8080/"
        },
        "id": "VNCSRw2-aX6l",
        "outputId": "940cd4af-d3f3-4860-8d89-f34ad8c24b37"
      },
      "execution_count": null,
      "outputs": [
        {
          "output_type": "execute_result",
          "data": {
            "text/plain": [
              "32"
            ]
          },
          "metadata": {},
          "execution_count": 59
        }
      ]
    },
    {
      "cell_type": "code",
      "source": [
        "for container in containers:\n",
        "  jtitle = container.find_all('h2',{'class':'css-m604qf'})\n",
        "  Job_Title = jtitle[0].text.strip()\n",
        "  cname = container.find_all('a',{'class':'css-17s97q8'})\n",
        "  Company_Name = cname[0].text.strip()\n",
        "  jtype = container.find_all('span',{'class':'css-1ve4b75 eoyjyou0'})\n",
        "  Job_Type = jtype[0].text.strip()\n",
        "  f.write(Job_Title + \",\" + Company_Name + \",\" + Job_Type + \"\\n\")\n",
        "f.close()"
      ],
      "metadata": {
        "id": "sx5VGmoZaPt1"
      },
      "execution_count": null,
      "outputs": []
    },
    {
      "cell_type": "code",
      "source": [
        "import pandas as pd\n",
        "pd.read_csv(\"Wuzzuf_jobs.csv\")"
      ],
      "metadata": {
        "colab": {
          "base_uri": "https://localhost:8080/",
          "height": 520
        },
        "id": "8souZLnqQO6b",
        "outputId": "ec63f48a-ab36-4ca0-b1e2-bb1f785ec8aa"
      },
      "execution_count": null,
      "outputs": [
        {
          "output_type": "execute_result",
          "data": {
            "text/plain": [
              "                                            Job_Title  \\\n",
              "0                                        Data Analyst   \n",
              "1                                        Data Analyst   \n",
              "2                                        Data Analyst   \n",
              "3                                        Data Analyst   \n",
              "4                 Manager - Data Intelligence Analyst   \n",
              "5                                  Sales Data Analyst   \n",
              "6                                        Data Analyst   \n",
              "7          Remote Data Analyst - From home _ remotely   \n",
              "8                                     PG Data Analyst   \n",
              "9                              Marketing Data Analyst   \n",
              "10                                       Data Analyst   \n",
              "11                                 Sr Pricing analyst   \n",
              "12                                Senior Data Analyst   \n",
              "13  Senior Data Analyst & Machine Learning Special...   \n",
              "14                            Market Research Analyst   \n",
              "\n",
              "                         Company_Name   Job_Type  \n",
              "0   Intelligent for field Marketing -  Full Time  \n",
              "1                    BTC-Egypt Gold -  Full Time  \n",
              "2                               PHI -  Full Time  \n",
              "3                      Confidential -  Full Time  \n",
              "4                         Almosafer -  Full Time  \n",
              "5            Koning Food Industries -  Full Time  \n",
              "6          United Elite Company     -  Full Time  \n",
              "7                            Kabshk -  Part Time  \n",
              "8                   Nile University -  Full Time  \n",
              "9                      waffarha.com -  Full Time  \n",
              "10                     waffarha.com -  Full Time  \n",
              "11                 Sky Distribution -  Full Time  \n",
              "12          Al Ahly Medical Company -  Full Time  \n",
              "13           HIGHBASE TRADING W.L.L -  Full Time  \n",
              "14                         SolyMaro -  Full Time  "
            ],
            "text/html": [
              "\n",
              "  <div id=\"df-731bdf1b-6cbf-4335-acfc-c80b396f59a2\" class=\"colab-df-container\">\n",
              "    <div>\n",
              "<style scoped>\n",
              "    .dataframe tbody tr th:only-of-type {\n",
              "        vertical-align: middle;\n",
              "    }\n",
              "\n",
              "    .dataframe tbody tr th {\n",
              "        vertical-align: top;\n",
              "    }\n",
              "\n",
              "    .dataframe thead th {\n",
              "        text-align: right;\n",
              "    }\n",
              "</style>\n",
              "<table border=\"1\" class=\"dataframe\">\n",
              "  <thead>\n",
              "    <tr style=\"text-align: right;\">\n",
              "      <th></th>\n",
              "      <th>Job_Title</th>\n",
              "      <th>Company_Name</th>\n",
              "      <th>Job_Type</th>\n",
              "    </tr>\n",
              "  </thead>\n",
              "  <tbody>\n",
              "    <tr>\n",
              "      <th>0</th>\n",
              "      <td>Data Analyst</td>\n",
              "      <td>Intelligent for field Marketing -</td>\n",
              "      <td>Full Time</td>\n",
              "    </tr>\n",
              "    <tr>\n",
              "      <th>1</th>\n",
              "      <td>Data Analyst</td>\n",
              "      <td>BTC-Egypt Gold -</td>\n",
              "      <td>Full Time</td>\n",
              "    </tr>\n",
              "    <tr>\n",
              "      <th>2</th>\n",
              "      <td>Data Analyst</td>\n",
              "      <td>PHI -</td>\n",
              "      <td>Full Time</td>\n",
              "    </tr>\n",
              "    <tr>\n",
              "      <th>3</th>\n",
              "      <td>Data Analyst</td>\n",
              "      <td>Confidential -</td>\n",
              "      <td>Full Time</td>\n",
              "    </tr>\n",
              "    <tr>\n",
              "      <th>4</th>\n",
              "      <td>Manager - Data Intelligence Analyst</td>\n",
              "      <td>Almosafer -</td>\n",
              "      <td>Full Time</td>\n",
              "    </tr>\n",
              "    <tr>\n",
              "      <th>5</th>\n",
              "      <td>Sales Data Analyst</td>\n",
              "      <td>Koning Food Industries -</td>\n",
              "      <td>Full Time</td>\n",
              "    </tr>\n",
              "    <tr>\n",
              "      <th>6</th>\n",
              "      <td>Data Analyst</td>\n",
              "      <td>United Elite Company     -</td>\n",
              "      <td>Full Time</td>\n",
              "    </tr>\n",
              "    <tr>\n",
              "      <th>7</th>\n",
              "      <td>Remote Data Analyst - From home _ remotely</td>\n",
              "      <td>Kabshk -</td>\n",
              "      <td>Part Time</td>\n",
              "    </tr>\n",
              "    <tr>\n",
              "      <th>8</th>\n",
              "      <td>PG Data Analyst</td>\n",
              "      <td>Nile University -</td>\n",
              "      <td>Full Time</td>\n",
              "    </tr>\n",
              "    <tr>\n",
              "      <th>9</th>\n",
              "      <td>Marketing Data Analyst</td>\n",
              "      <td>waffarha.com -</td>\n",
              "      <td>Full Time</td>\n",
              "    </tr>\n",
              "    <tr>\n",
              "      <th>10</th>\n",
              "      <td>Data Analyst</td>\n",
              "      <td>waffarha.com -</td>\n",
              "      <td>Full Time</td>\n",
              "    </tr>\n",
              "    <tr>\n",
              "      <th>11</th>\n",
              "      <td>Sr Pricing analyst</td>\n",
              "      <td>Sky Distribution -</td>\n",
              "      <td>Full Time</td>\n",
              "    </tr>\n",
              "    <tr>\n",
              "      <th>12</th>\n",
              "      <td>Senior Data Analyst</td>\n",
              "      <td>Al Ahly Medical Company -</td>\n",
              "      <td>Full Time</td>\n",
              "    </tr>\n",
              "    <tr>\n",
              "      <th>13</th>\n",
              "      <td>Senior Data Analyst &amp; Machine Learning Special...</td>\n",
              "      <td>HIGHBASE TRADING W.L.L -</td>\n",
              "      <td>Full Time</td>\n",
              "    </tr>\n",
              "    <tr>\n",
              "      <th>14</th>\n",
              "      <td>Market Research Analyst</td>\n",
              "      <td>SolyMaro -</td>\n",
              "      <td>Full Time</td>\n",
              "    </tr>\n",
              "  </tbody>\n",
              "</table>\n",
              "</div>\n",
              "    <div class=\"colab-df-buttons\">\n",
              "\n",
              "  <div class=\"colab-df-container\">\n",
              "    <button class=\"colab-df-convert\" onclick=\"convertToInteractive('df-731bdf1b-6cbf-4335-acfc-c80b396f59a2')\"\n",
              "            title=\"Convert this dataframe to an interactive table.\"\n",
              "            style=\"display:none;\">\n",
              "\n",
              "  <svg xmlns=\"http://www.w3.org/2000/svg\" height=\"24px\" viewBox=\"0 -960 960 960\">\n",
              "    <path d=\"M120-120v-720h720v720H120Zm60-500h600v-160H180v160Zm220 220h160v-160H400v160Zm0 220h160v-160H400v160ZM180-400h160v-160H180v160Zm440 0h160v-160H620v160ZM180-180h160v-160H180v160Zm440 0h160v-160H620v160Z\"/>\n",
              "  </svg>\n",
              "    </button>\n",
              "\n",
              "  <style>\n",
              "    .colab-df-container {\n",
              "      display:flex;\n",
              "      gap: 12px;\n",
              "    }\n",
              "\n",
              "    .colab-df-convert {\n",
              "      background-color: #E8F0FE;\n",
              "      border: none;\n",
              "      border-radius: 50%;\n",
              "      cursor: pointer;\n",
              "      display: none;\n",
              "      fill: #1967D2;\n",
              "      height: 32px;\n",
              "      padding: 0 0 0 0;\n",
              "      width: 32px;\n",
              "    }\n",
              "\n",
              "    .colab-df-convert:hover {\n",
              "      background-color: #E2EBFA;\n",
              "      box-shadow: 0px 1px 2px rgba(60, 64, 67, 0.3), 0px 1px 3px 1px rgba(60, 64, 67, 0.15);\n",
              "      fill: #174EA6;\n",
              "    }\n",
              "\n",
              "    .colab-df-buttons div {\n",
              "      margin-bottom: 4px;\n",
              "    }\n",
              "\n",
              "    [theme=dark] .colab-df-convert {\n",
              "      background-color: #3B4455;\n",
              "      fill: #D2E3FC;\n",
              "    }\n",
              "\n",
              "    [theme=dark] .colab-df-convert:hover {\n",
              "      background-color: #434B5C;\n",
              "      box-shadow: 0px 1px 3px 1px rgba(0, 0, 0, 0.15);\n",
              "      filter: drop-shadow(0px 1px 2px rgba(0, 0, 0, 0.3));\n",
              "      fill: #FFFFFF;\n",
              "    }\n",
              "  </style>\n",
              "\n",
              "    <script>\n",
              "      const buttonEl =\n",
              "        document.querySelector('#df-731bdf1b-6cbf-4335-acfc-c80b396f59a2 button.colab-df-convert');\n",
              "      buttonEl.style.display =\n",
              "        google.colab.kernel.accessAllowed ? 'block' : 'none';\n",
              "\n",
              "      async function convertToInteractive(key) {\n",
              "        const element = document.querySelector('#df-731bdf1b-6cbf-4335-acfc-c80b396f59a2');\n",
              "        const dataTable =\n",
              "          await google.colab.kernel.invokeFunction('convertToInteractive',\n",
              "                                                    [key], {});\n",
              "        if (!dataTable) return;\n",
              "\n",
              "        const docLinkHtml = 'Like what you see? Visit the ' +\n",
              "          '<a target=\"_blank\" href=https://colab.research.google.com/notebooks/data_table.ipynb>data table notebook</a>'\n",
              "          + ' to learn more about interactive tables.';\n",
              "        element.innerHTML = '';\n",
              "        dataTable['output_type'] = 'display_data';\n",
              "        await google.colab.output.renderOutput(dataTable, element);\n",
              "        const docLink = document.createElement('div');\n",
              "        docLink.innerHTML = docLinkHtml;\n",
              "        element.appendChild(docLink);\n",
              "      }\n",
              "    </script>\n",
              "  </div>\n",
              "\n",
              "\n",
              "<div id=\"df-ef762f30-6980-4092-815d-75a14cb1e8cf\">\n",
              "  <button class=\"colab-df-quickchart\" onclick=\"quickchart('df-ef762f30-6980-4092-815d-75a14cb1e8cf')\"\n",
              "            title=\"Suggest charts\"\n",
              "            style=\"display:none;\">\n",
              "\n",
              "<svg xmlns=\"http://www.w3.org/2000/svg\" height=\"24px\"viewBox=\"0 0 24 24\"\n",
              "     width=\"24px\">\n",
              "    <g>\n",
              "        <path d=\"M19 3H5c-1.1 0-2 .9-2 2v14c0 1.1.9 2 2 2h14c1.1 0 2-.9 2-2V5c0-1.1-.9-2-2-2zM9 17H7v-7h2v7zm4 0h-2V7h2v10zm4 0h-2v-4h2v4z\"/>\n",
              "    </g>\n",
              "</svg>\n",
              "  </button>\n",
              "\n",
              "<style>\n",
              "  .colab-df-quickchart {\n",
              "      --bg-color: #E8F0FE;\n",
              "      --fill-color: #1967D2;\n",
              "      --hover-bg-color: #E2EBFA;\n",
              "      --hover-fill-color: #174EA6;\n",
              "      --disabled-fill-color: #AAA;\n",
              "      --disabled-bg-color: #DDD;\n",
              "  }\n",
              "\n",
              "  [theme=dark] .colab-df-quickchart {\n",
              "      --bg-color: #3B4455;\n",
              "      --fill-color: #D2E3FC;\n",
              "      --hover-bg-color: #434B5C;\n",
              "      --hover-fill-color: #FFFFFF;\n",
              "      --disabled-bg-color: #3B4455;\n",
              "      --disabled-fill-color: #666;\n",
              "  }\n",
              "\n",
              "  .colab-df-quickchart {\n",
              "    background-color: var(--bg-color);\n",
              "    border: none;\n",
              "    border-radius: 50%;\n",
              "    cursor: pointer;\n",
              "    display: none;\n",
              "    fill: var(--fill-color);\n",
              "    height: 32px;\n",
              "    padding: 0;\n",
              "    width: 32px;\n",
              "  }\n",
              "\n",
              "  .colab-df-quickchart:hover {\n",
              "    background-color: var(--hover-bg-color);\n",
              "    box-shadow: 0 1px 2px rgba(60, 64, 67, 0.3), 0 1px 3px 1px rgba(60, 64, 67, 0.15);\n",
              "    fill: var(--button-hover-fill-color);\n",
              "  }\n",
              "\n",
              "  .colab-df-quickchart-complete:disabled,\n",
              "  .colab-df-quickchart-complete:disabled:hover {\n",
              "    background-color: var(--disabled-bg-color);\n",
              "    fill: var(--disabled-fill-color);\n",
              "    box-shadow: none;\n",
              "  }\n",
              "\n",
              "  .colab-df-spinner {\n",
              "    border: 2px solid var(--fill-color);\n",
              "    border-color: transparent;\n",
              "    border-bottom-color: var(--fill-color);\n",
              "    animation:\n",
              "      spin 1s steps(1) infinite;\n",
              "  }\n",
              "\n",
              "  @keyframes spin {\n",
              "    0% {\n",
              "      border-color: transparent;\n",
              "      border-bottom-color: var(--fill-color);\n",
              "      border-left-color: var(--fill-color);\n",
              "    }\n",
              "    20% {\n",
              "      border-color: transparent;\n",
              "      border-left-color: var(--fill-color);\n",
              "      border-top-color: var(--fill-color);\n",
              "    }\n",
              "    30% {\n",
              "      border-color: transparent;\n",
              "      border-left-color: var(--fill-color);\n",
              "      border-top-color: var(--fill-color);\n",
              "      border-right-color: var(--fill-color);\n",
              "    }\n",
              "    40% {\n",
              "      border-color: transparent;\n",
              "      border-right-color: var(--fill-color);\n",
              "      border-top-color: var(--fill-color);\n",
              "    }\n",
              "    60% {\n",
              "      border-color: transparent;\n",
              "      border-right-color: var(--fill-color);\n",
              "    }\n",
              "    80% {\n",
              "      border-color: transparent;\n",
              "      border-right-color: var(--fill-color);\n",
              "      border-bottom-color: var(--fill-color);\n",
              "    }\n",
              "    90% {\n",
              "      border-color: transparent;\n",
              "      border-bottom-color: var(--fill-color);\n",
              "    }\n",
              "  }\n",
              "</style>\n",
              "\n",
              "  <script>\n",
              "    async function quickchart(key) {\n",
              "      const quickchartButtonEl =\n",
              "        document.querySelector('#' + key + ' button');\n",
              "      quickchartButtonEl.disabled = true;  // To prevent multiple clicks.\n",
              "      quickchartButtonEl.classList.add('colab-df-spinner');\n",
              "      try {\n",
              "        const charts = await google.colab.kernel.invokeFunction(\n",
              "            'suggestCharts', [key], {});\n",
              "      } catch (error) {\n",
              "        console.error('Error during call to suggestCharts:', error);\n",
              "      }\n",
              "      quickchartButtonEl.classList.remove('colab-df-spinner');\n",
              "      quickchartButtonEl.classList.add('colab-df-quickchart-complete');\n",
              "    }\n",
              "    (() => {\n",
              "      let quickchartButtonEl =\n",
              "        document.querySelector('#df-ef762f30-6980-4092-815d-75a14cb1e8cf button');\n",
              "      quickchartButtonEl.style.display =\n",
              "        google.colab.kernel.accessAllowed ? 'block' : 'none';\n",
              "    })();\n",
              "  </script>\n",
              "</div>\n",
              "\n",
              "    </div>\n",
              "  </div>\n"
            ],
            "application/vnd.google.colaboratory.intrinsic+json": {
              "type": "dataframe",
              "summary": "{\n  \"name\": \"pd\",\n  \"rows\": 15,\n  \"fields\": [\n    {\n      \"column\": \"Job_Title\",\n      \"properties\": {\n        \"dtype\": \"string\",\n        \"num_unique_values\": 10,\n        \"samples\": [\n          \"Senior Data Analyst & Machine Learning Specialist (Full time Remote)\",\n          \"Manager - Data Intelligence Analyst\",\n          \"Marketing Data Analyst\"\n        ],\n        \"semantic_type\": \"\",\n        \"description\": \"\"\n      }\n    },\n    {\n      \"column\": \"Company_Name\",\n      \"properties\": {\n        \"dtype\": \"string\",\n        \"num_unique_values\": 14,\n        \"samples\": [\n          \"waffarha.com -\",\n          \"Al Ahly Medical Company -\",\n          \"Intelligent for field Marketing -\"\n        ],\n        \"semantic_type\": \"\",\n        \"description\": \"\"\n      }\n    },\n    {\n      \"column\": \"Job_Type\",\n      \"properties\": {\n        \"dtype\": \"category\",\n        \"num_unique_values\": 2,\n        \"samples\": [\n          \"Part Time\",\n          \"Full Time\"\n        ],\n        \"semantic_type\": \"\",\n        \"description\": \"\"\n      }\n    }\n  ]\n}"
            }
          },
          "metadata": {},
          "execution_count": 61
        }
      ]
    },
    {
      "cell_type": "code",
      "source": [],
      "metadata": {
        "id": "xO8cv8SpYYmc"
      },
      "execution_count": null,
      "outputs": []
    }
  ]
}